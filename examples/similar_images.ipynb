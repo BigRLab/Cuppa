{
 "metadata": {
  "name": "",
  "signature": "sha256:0fce62e5e6f44a2e91bb5b5f0c6038c038f84883e734b9c409a101244174d543"
 },
 "nbformat": 3,
 "nbformat_minor": 0,
 "worksheets": [
  {
   "cells": [
    {
     "cell_type": "markdown",
     "metadata": {},
     "source": [
      "Predicting Similar Images\n",
      "========================="
     ]
    },
    {
     "cell_type": "markdown",
     "metadata": {},
     "source": [
      "In this example, we will select an image and find the five most similar images to it.\n",
      "\n",
      "To do this, we will first generate the image vectors for a set of images by calling the predict endpoint of Caffe As a Service (Caas). We will then insert the vectors into the K-nearest neigbours as a service (Knnaas) by calling the insert endpoint.\n",
      "\n",
      "Now, we can pick an image for which we would like to find similar images and generate a vector for this image using the Caas predict endpoint.\n",
      "\n",
      "Finally, to find the similar images we will call the predict endpoint of Knnaas service. Note, that, this we call the predict endpoint and not the insert endpoint of the Knnaas service.\n",
      "\n",
      "Before we can do this, lets bring up the Caas and Knnaas services.\n",
      "\n",
      "From the ml-engines home, run the following:"
     ]
    },
    {
     "cell_type": "markdown",
     "metadata": {},
     "source": [
      "```\n",
      "#Start the model routing service\n",
      "LOG_CFG=test/router_log_config.yaml gunicorn --daemon 'router.router_app:loader(\"caas/config/development/vagrant_config.yaml\")' --error-logfile gunicorn.log --access-logfile gunicorn_access.log\n",
      "\n",
      "#Start the Caas service\n",
      "python -m caas.worker.worker start caas/config/development/vagrant_config.yaml 0\n",
      "\n",
      "#Tell the Caas service to load the model. Here we will use Kevinnet (link to Kevinnet)\n",
      "fab -f caas/worker/worker_client.py commission:config_path=caas/config/development/vagrant_config.yaml,worker_id=0,model_id=KevinNet_CIFAR10_48\n",
      "\n",
      "#Start the Knnaas service\n",
      "python -m knnaas.worker.server start\n",
      "\n",
      "#Register the Caas and Knnaas service with the router.\n",
      "curl -H \"Content-Type: application/json\" -X PUT -d '{\"Caffe\": {\"KevinNet_CIFAR10_48\": [{\"host\": \"localhost\",\"port\": 9091,\"local_worker_id\": 0}]}, \"KNN\": {\"model-1\": [{\"host\":\"localhost\",\"port\":9090, \"local_worker_id\" : 0}]}}' http://localhost:8000/v1/model_workers_map\n"
     ]
    },
    {
     "cell_type": "code",
     "collapsed": false,
     "input": [
      "#Download model and images"
     ],
     "language": "python",
     "metadata": {},
     "outputs": []
    },
    {
     "cell_type": "markdown",
     "metadata": {},
     "source": [
      "Here are some of the images from our dataset"
     ]
    },
    {
     "cell_type": "code",
     "collapsed": false,
     "input": [
      "from IPython.display import Image, display\n",
      "Image(filename='sample/1419.jpg')"
     ],
     "language": "python",
     "metadata": {},
     "outputs": [
      {
       "jpeg": "[encoded data removed]",
       "metadata": {},
       "output_type": "pyout",
       "prompt_number": 55,
       "text": [
        "<IPython.core.display.Image at 0x7f8d4d2a4b10>"
       ]
      }
     ],
     "prompt_number": 55
    },
    {
     "cell_type": "code",
     "collapsed": false,
     "input": [
      "Image(filename='sample/1314.jpg')"
     ],
     "language": "python",
     "metadata": {},
     "outputs": [
      {
       "jpeg": "[encoded data removed]",
       "metadata": {},
       "output_type": "pyout",
       "prompt_number": 2,
       "text": [
        "<IPython.core.display.Image at 0x7f8d49faeb50>"
       ]
      }
     ],
     "prompt_number": 2
    },
    {
     "cell_type": "code",
     "collapsed": false,
     "input": [
      "Image(filename='sample/3274.jpg')"
     ],
     "language": "python",
     "metadata": {},
     "outputs": [
      {
       "jpeg": "[encoded data removed]",
       "metadata": {},
       "output_type": "pyout",
       "prompt_number": 3,
       "text": [
        "<IPython.core.display.Image at 0x7f8d4d295210>"
       ]
      }
     ],
     "prompt_number": 3
    },
    {
     "cell_type": "code",
     "collapsed": false,
     "input": [
      "import os\n",
      "\n",
      "all_images = os.listdir('sample')\n",
      "print(all_images[0])"
     ],
     "language": "python",
     "metadata": {},
     "outputs": [
      {
       "output_type": "stream",
       "stream": "stdout",
       "text": [
        "1030.jpg\n"
       ]
      }
     ],
     "prompt_number": 4
    },
    {
     "cell_type": "code",
     "collapsed": false,
     "input": [
      "d1 = {\"url\":\"http://localhost:8500/1030.jpg\", \"modelId\": \"KevinNet_CIFAR10_48\"}\n",
      "response = requests.post('http://localhost:8000/v1/caffe_model/predict', data=json.dumps(d1), headers={'Content-Type': 'application/json'})\n",
      "print(response.status_code)\n",
      "print(response.content)\n",
      "vec = json.loads(response.content)\n",
      "print(str(vec))\n",
      "d2 = {\"modelId\":\"model-1\", \"operation\": \"insert\", \"dataPointId\": \"1\", \"vector\": vec, \"tags\": [\"\"]}\n",
      "response = requests.post('http://localhost:8000/v1/knn_model/update', data= json.dumps(d2), headers={'Content-Type': 'application/json'})\n",
      "print(response.status_code)\n",
      "print(response.content)"
     ],
     "language": "python",
     "metadata": {},
     "outputs": [
      {
       "output_type": "stream",
       "stream": "stdout",
       "text": [
        "200\n",
        "[2.146946280845441e-05, 0.9979165196418762, 0.0012730585876852274, 0.0015496403211727738, 0.9954878687858582, 0.9794952869415283, 0.9955390691757202, 0.9998779296875, 0.9873208999633789, 0.9948503971099854, 0.9999674558639526, 0.9999550580978394, 0.00035287835635244846, 0.9974333047866821, 0.9997132420539856, 0.9703213572502136, 0.9989089965820312, 4.5134722313378006e-05, 0.0012996867299079895, 0.9987508654594421, 0.003065969329327345, 0.002173504326492548, 0.9999056458473206, 0.9998201727867126, 5.388144563767128e-05, 0.007039475720375776, 0.813399612903595, 0.00027536548441275954, 0.0012660343199968338, 0.9930518865585327, 1.3590370144811459e-06, 0.0016519725322723389, 0.9366635680198669, 0.0010215844959020615, 0.9995947480201721, 0.0023409975692629814, 0.8881035447120667, 0.7653576731681824, 0.01197545975446701, 0.0033588027581572533, 0.9927553534507751, 0.9930691123008728, 0.016962014138698578, 0.9999554753303528, 0.4637003540992737, 0.9998213052749634, 3.1934619073581416e-06, 0.9999265670776367]\n",
        "[2.146946280845441e-05, 0.9979165196418762, 0.0012730585876852274, 0.0015496403211727738, 0.9954878687858582, 0.9794952869415283, 0.9955390691757202, 0.9998779296875, 0.9873208999633789, 0.9948503971099854, 0.9999674558639526, 0.9999550580978394, 0.00035287835635244846, 0.9974333047866821, 0.9997132420539856, 0.9703213572502136, 0.9989089965820312, 4.5134722313378006e-05, 0.0012996867299079895, 0.9987508654594421, 0.003065969329327345, 0.002173504326492548, 0.9999056458473206, 0.9998201727867126, 5.388144563767128e-05, 0.007039475720375776, 0.813399612903595, 0.00027536548441275954, 0.0012660343199968338, 0.9930518865585327, 1.3590370144811459e-06, 0.0016519725322723389, 0.9366635680198669, 0.0010215844959020615, 0.9995947480201721, 0.0023409975692629814, 0.8881035447120667, 0.7653576731681824, 0.01197545975446701, 0.0033588027581572533, 0.9927553534507751, 0.9930691123008728, 0.016962014138698578, 0.9999554753303528, 0.4637003540992737, 0.9998213052749634, 3.1934619073581416e-06, 0.9999265670776367]\n",
        "200\n",
        "{\"status\": \"Success\"}\n"
       ]
      }
     ],
     "prompt_number": 32
    },
    {
     "cell_type": "code",
     "collapsed": false,
     "input": [
      "import requests\n",
      "import json\n",
      "\n",
      "i=0\n",
      "id_to_img_map = {}\n",
      "for img in all_images:\n",
      "    i=i+1\n",
      "    d1 = {\"url\":\"http://localhost:8500/\" + img, \"modelId\": \"KevinNet_CIFAR10_48\"}\n",
      "    response = requests.post('http://localhost:8000/v1/caffe_model/predict', data=json.dumps(d1), headers={'Content-Type': 'application/json'})\n",
      "    vec = json.loads(response.content)\n",
      "    id_to_img_map[str(i)] = img\n",
      "    d2 = {\"modelId\":\"model-1\", \"operation\": \"insert\", \"dataPointId\": str(i), \"vector\": vec, \"tags\": [\"\"]}\n",
      "    requests.post('http://localhost:8000/v1/knn_model/update', data= json.dumps(d2), headers={'Content-Type': 'application/json'})"
     ],
     "language": "python",
     "metadata": {},
     "outputs": [],
     "prompt_number": 33
    },
    {
     "cell_type": "markdown",
     "metadata": {},
     "source": [
      "Now, lets find images that are closest to this -"
     ]
    },
    {
     "cell_type": "code",
     "collapsed": false,
     "input": [
      "Image(filename='sample/1314.jpg')"
     ],
     "language": "python",
     "metadata": {},
     "outputs": [
      {
       "jpeg": "[encoded data removed]",
       "metadata": {},
       "output_type": "pyout",
       "prompt_number": 64,
       "text": [
        "<IPython.core.display.Image at 0x7f8d33d2b410>"
       ]
      }
     ],
     "prompt_number": 64
    },
    {
     "cell_type": "code",
     "collapsed": false,
     "input": [
      "#Now predict\n",
      "#d3 = {\"url\":\"http://localhost:8500/1314.jpg\", \"modelId\": \"KevinNet_CIFAR10_48\"}\n",
      "#d3 = {\"url\":\"http://imagecdn8.cartrade.com/img/800x600/car-data/big/maruti-suzuki-swift-default-image.png\", \"modelId\": \"KevinNet_CIFAR10_48\"}\n",
      "#d3 = {\"url\":\"http://www.image-net.org/nodes/5/02960352/1f/1f131ee4f7d4c438f1d2e286eda6bc2ef6dbc469.thumb\", \"modelId\": \"KevinNet_CIFAR10_48\"}\n",
      "d3 = {\"url\":\"http://news.nationalgeographic.com/news/2007/09/images/070928-frog-picture_big.jpg\", \"modelId\": \"KevinNet_CIFAR10_48\"}\n",
      "\n",
      "response = requests.post('http://localhost:8000/v1/caffe_model/predict', data= json.dumps(d3), headers={'Content-Type': 'application/json'})\n",
      "print(response.status_code)\n",
      "vec = json.loads(response.content)\n",
      "print(str(vec))\n",
      "d4 = {\"modelId\":\"model-1\", \"operation\": \"SearchByVector\", \"vector\": vec, \"tags\":[\"\"]}\n",
      "response = requests.post('http://localhost:8000/v1/knn_model/predict', data= json.dumps(d4), headers={'Content-Type': 'application/json'})\n",
      "print(response.status_code)\n",
      "print(response.content)\n",
      "predictions = json.loads(response.content)\n",
      "ids_dists = predictions[u'result']\n",
      "ids_dists.reverse()"
     ],
     "language": "python",
     "metadata": {},
     "outputs": [
      {
       "output_type": "stream",
       "stream": "stdout",
       "text": [
        "200\n",
        "[2.948449719042401e-06, 0.9997074604034424, 0.0041442085057497025, 0.003163360059261322, 0.9995502233505249, 0.9961134791374207, 0.9915194511413574, 0.9979007244110107, 0.6359469890594482, 0.9999895691871643, 0.9999938011169434, 0.9998611807823181, 0.00010567183198872954, 0.9971128106117249, 0.9870666265487671, 0.9581118822097778, 0.9999675750732422, 0.0001435092417523265, 5.943442738498561e-05, 0.997321605682373, 0.00015146219811867923, 0.0001383969356538728, 0.9997089505195618, 0.9989033937454224, 0.0039650918915867805, 0.00876687653362751, 0.44023996591567993, 4.7245681344065815e-05, 0.00038455246249213815, 0.9948388338088989, 7.710501449764706e-06, 0.005753688048571348, 0.8469799160957336, 0.00023447808052878827, 0.9999024271965027, 2.68056846834952e-05, 0.9994065761566162, 0.973845362663269, 0.1439395397901535, 0.00022618946968577802, 0.9995483160018921, 0.9975230097770691, 0.0003216649347450584, 0.9999839663505554, 0.6428624391555786, 0.981738269329071, 4.271544094081037e-05, 0.9990951418876648]\n",
        "200\n",
        "{\"result\": [[\"45\", 1.2937651872634888], [\"7\", 1.2868516445159912], [\"65\", 0.9032000303268433], [\"1\", 0.6144347786903381], [\"48\", 0.5431205630302429]]}\n"
       ]
      }
     ],
     "prompt_number": 78
    },
    {
     "cell_type": "code",
     "collapsed": false,
     "input": [
      "#file_name = id_to_img_map[\"12\"]\n",
      "#Image(filename='sample/' + file_name)\n",
      "#display(x,y)\n",
      "\n",
      "filenames = []\n",
      "images = []\n",
      "for id_dist in ids_dists:\n",
      "    images.append(Image(filename='sample/' + id_to_img_map[id_dist[0]]))\n",
      "print(\"Here are the nearest neighbours for our sample image\")                  \n",
      "display(images[0], images[1], images[2], images[3], images[4])"
     ],
     "language": "python",
     "metadata": {},
     "outputs": [
      {
       "output_type": "stream",
       "stream": "stdout",
       "text": [
        "Here are the nearest neighbours for our sample image\n"
       ]
      },
      {
       "jpeg": "[encoded data removed]",
       "metadata": {},
       "output_type": "display_data",
       "text": [
        "<IPython.core.display.Image at 0x7f8d33c65590>"
       ]
      },
      {
       "jpeg": "[encoded data removed]",
       "metadata": {},
       "output_type": "display_data",
       "text": [
        "<IPython.core.display.Image at 0x7f8d33c65a90>"
       ]
      },
      {
       "jpeg": "[encoded data removed]",
       "metadata": {},
       "output_type": "display_data",
       "text": [
        "<IPython.core.display.Image at 0x7f8d33c65210>"
       ]
      },
      {
       "jpeg": "[encoded data removed]",
       "metadata": {},
       "output_type": "display_data",
       "text": [
        "<IPython.core.display.Image at 0x7f8d33c65190>"
       ]
      },
      {
       "jpeg": "[encoded data removed]",
       "metadata": {},
       "output_type": "display_data",
       "text": [
        "<IPython.core.display.Image at 0x7f8d33c657d0>"
       ]
      }
     ],
     "prompt_number": 79
    },
    {
     "cell_type": "markdown",
     "metadata": {},
     "source": [
      "Image urls from http://image-net.com that correspond to the 10 classes in cifar-10 are in image_urls.tsv\n",
      "\n",
      "Lets have a look at some of the images"
     ]
    },
    {
     "cell_type": "code",
     "collapsed": false,
     "input": [
      "img_urls = {}\n",
      "with open('img_urls.tsv') as imgs_tsv:\n",
      "    for line in imgs_tsv.readlines():\n",
      "        (cifar_class, url) = line.strip().split('\\t')\n",
      "        img_list = img_urls.get(cifar_class, [])\n",
      "        img_list.append(url)\n",
      "        img_urls[cifar_class] = img_list\n",
      "\n",
      "print(img_urls.keys())\n",
      "print img_urls['horse'][0]"
     ],
     "language": "python",
     "metadata": {},
     "outputs": [
      {
       "output_type": "stream",
       "stream": "stdout",
       "text": [
        "['horse', 'automobile', 'deer', 'dog', 'frog', 'cat', 'truck', 'ship', 'airplane', 'bird']\n",
        "http://www.image-net.org/nodes/12/02374451/bd/bd35c9c05d7ccd205b34cb3d4ae4bdcae1a8a8b8.thumb\n"
       ]
      }
     ],
     "prompt_number": 9
    },
    {
     "cell_type": "code",
     "collapsed": false,
     "input": [
      "from IPython.display import Image, display\n",
      "\n",
      "for img_class in img_urls.keys():\n",
      "    display(Image(url=img_urls[img_class][0]))\n"
     ],
     "language": "python",
     "metadata": {},
     "outputs": [
      {
       "html": [
        "<img src=\"http://www.image-net.org/nodes/12/02374451/bd/bd35c9c05d7ccd205b34cb3d4ae4bdcae1a8a8b8.thumb\"/>"
       ],
       "metadata": {},
       "output_type": "display_data",
       "text": [
        "<IPython.core.display.Image at 0x7f6c99b55450>"
       ]
      },
      {
       "html": [
        "<img src=\"http://www.image-net.org/nodes/11/02958343/7d/7d816522144f156e806a8303178af8282adef8bc.thumb\"/>"
       ],
       "metadata": {},
       "output_type": "display_data",
       "text": [
        "<IPython.core.display.Image at 0x7f6ca1b8d150>"
       ]
      },
      {
       "html": [
        "<img src=\"http://www.image-net.org/nodes/14/02430045/8f/8f05fa73ad41203104dcbbb66a73bb2353ebd315.thumb\"/>"
       ],
       "metadata": {},
       "output_type": "display_data",
       "text": [
        "<IPython.core.display.Image at 0x7f6c99b55790>"
       ]
      },
      {
       "html": [
        "<img src=\"http://www.image-net.org/nodes/11/02084071/5f/5f094c4993438264fff75ef5833db81bd777d7a8.thumb\"/>"
       ],
       "metadata": {},
       "output_type": "display_data",
       "text": [
        "<IPython.core.display.Image at 0x7f6c99b55850>"
       ]
      },
      {
       "html": [
        "<img src=\"http://www.image-net.org/nodes/9/01639765/2d/2d5c39e1c3d296d0c2cececb3ac8f279f3cdc86b.thumb\"/>"
       ],
       "metadata": {},
       "output_type": "display_data",
       "text": [
        "<IPython.core.display.Image at 0x7f6c99b556d0>"
       ]
      },
      {
       "html": [
        "<img src=\"http://www.image-net.org/nodes/6/02121620/ba/ba001acd71960b0d72c1a6305fdc5f827461af9e.thumb\"/>"
       ],
       "metadata": {},
       "output_type": "display_data",
       "text": [
        "<IPython.core.display.Image at 0x7f6c99b55990>"
       ]
      },
      {
       "html": [
        "<img src=\"http://www.image-net.org/nodes/1/04490091/8d/8d902e72ab1f2ffab22dc578ae2e9a760ebec50f.thumb\"/>"
       ],
       "metadata": {},
       "output_type": "display_data",
       "text": [
        "<IPython.core.display.Image at 0x7f6c99b55750>"
       ]
      },
      {
       "html": [
        "<img src=\"http://www.image-net.org/nodes/1/04194289/01/017c23253cf1a6433e842efe063064aa01b686e3.thumb\"/>"
       ],
       "metadata": {},
       "output_type": "display_data",
       "text": [
        "<IPython.core.display.Image at 0x7f6c99b559d0>"
       ]
      },
      {
       "html": [
        "<img src=\"http://www.image-net.org/nodes/1/02691156/17/17af00938daad80b5e97027f6b3a3e1f1627aea2.thumb\"/>"
       ],
       "metadata": {},
       "output_type": "display_data",
       "text": [
        "<IPython.core.display.Image at 0x7f6c99b55a10>"
       ]
      },
      {
       "html": [
        "<img src=\"http://www.image-net.org/nodes/1/01503061/04/04db22a9bc724ebf1840c6c3631d51790e0f021a.thumb\"/>"
       ],
       "metadata": {},
       "output_type": "display_data",
       "text": [
        "<IPython.core.display.Image at 0x7f6c99b55a50>"
       ]
      }
     ],
     "prompt_number": 11
    },
    {
     "cell_type": "code",
     "collapsed": false,
     "input": [
      "import requests, json\n",
      "\n",
      "d1 = {\"url\":img_urls['horse'][0], \"modelId\": \"KevinNet_CIFAR10_48\"}\n",
      "response = requests.post('http://localhost:8000/v1/caffe_model/predict', \n",
      "                         data=json.dumps(d1), \n",
      "                         headers={'Content-Type': 'application/json'})\n",
      "\n",
      "print(response.status_code)\n",
      "print(response.content)\n"
     ],
     "language": "python",
     "metadata": {},
     "outputs": [
      {
       "output_type": "stream",
       "stream": "stdout",
       "text": [
        "200\n",
        "[0.018448345363140106, 0.9855384826660156, 0.0005375780747272074, 0.016542669385671616, 0.0028725676238536835, 0.01883883588016033, 0.7837542295455933, 0.9421281814575195, 0.858430802822113, 0.06279351562261581, 0.019347021356225014, 0.93182772397995, 0.8539321422576904, 0.8034805655479431, 0.5766627788543701, 0.653766393661499, 0.016270926222205162, 0.9680255651473999, 0.9256700277328491, 0.9823125004768372, 0.99410480260849, 0.03165864199399948, 0.9952507615089417, 0.4026651382446289, 0.7379107475280762, 0.01387855876237154, 0.9996728301048279, 0.9999628067016602, 0.992577850818634, 0.9867085814476013, 0.21673664450645447, 0.9957020282745361, 0.0015155583387240767, 0.9227782487869263, 0.0008746151579543948, 0.9989007711410522, 0.08006580919027328, 0.0006333822384476662, 0.09225847572088242, 0.0005493158241733909, 0.0007938891067169607, 0.015284442342817783, 0.7659894824028015, 0.02385750040411949, 0.8482775092124939, 0.4759948253631592, 0.5717042088508606, 0.9377776384353638]\n"
       ]
      }
     ],
     "prompt_number": 14
    },
    {
     "cell_type": "code",
     "collapsed": false,
     "input": [
      "vec = json.loads(response.content)"
     ],
     "language": "python",
     "metadata": {},
     "outputs": [],
     "prompt_number": 15
    },
    {
     "cell_type": "code",
     "collapsed": false,
     "input": [
      "d2 = {\"modelId\":\"model-1\", \"operation\": \"insert\", \"dataPointId\": \"1\", \"vector\": vec, \"tags\": [\"\"]}\n",
      "response = requests.post('http://localhost:8000/v1/knn_model/update', data= json.dumps(d2), headers={'Content-Type': 'application/json'})\n",
      "print(response.status_code)\n",
      "print(response.content)"
     ],
     "language": "python",
     "metadata": {},
     "outputs": [
      {
       "output_type": "stream",
       "stream": "stdout",
       "text": [
        "[0.018448345363140106, 0.9855384826660156, 0.0005375780747272074, 0.016542669385671616, 0.0028725676238536835, 0.01883883588016033, 0.7837542295455933, 0.9421281814575195, 0.858430802822113, 0.06279351562261581, 0.019347021356225014, 0.93182772397995, 0.8539321422576904, 0.8034805655479431, 0.5766627788543701, 0.653766393661499, 0.016270926222205162, 0.9680255651473999, 0.9256700277328491, 0.9823125004768372, 0.99410480260849, 0.03165864199399948, 0.9952507615089417, 0.4026651382446289, 0.7379107475280762, 0.01387855876237154, 0.9996728301048279, 0.9999628067016602, 0.992577850818634, 0.9867085814476013, 0.21673664450645447, 0.9957020282745361, 0.0015155583387240767, 0.9227782487869263, 0.0008746151579543948, 0.9989007711410522, 0.08006580919027328, 0.0006333822384476662, 0.09225847572088242, 0.0005493158241733909, 0.0007938891067169607, 0.015284442342817783, 0.7659894824028015, 0.02385750040411949, 0.8482775092124939, 0.4759948253631592, 0.5717042088508606, 0.9377776384353638]\n",
        "200\n",
        "{\"status\": \"Success\"}\n"
       ]
      }
     ],
     "prompt_number": 16
    },
    {
     "cell_type": "code",
     "collapsed": false,
     "input": [
      "#Create an id to url map\n",
      "id_to_imgurl_map = {}\n",
      "i=0\n",
      "for class_imgs in img_urls.itervalues():\n",
      "    for img in class_imgs:\n",
      "        id_to_imgurl_map[i]=img\n",
      "        i+=1"
     ],
     "language": "python",
     "metadata": {},
     "outputs": [],
     "prompt_number": 19
    },
    {
     "cell_type": "code",
     "collapsed": false,
     "input": [
      "print(str(id_to_imgurl_map))"
     ],
     "language": "python",
     "metadata": {},
     "outputs": [
      {
       "output_type": "stream",
       "stream": "stdout",
       "text": [
        "{0: 'http://www.image-net.org/nodes/12/02374451/bd/bd35c9c05d7ccd205b34cb3d4ae4bdcae1a8a8b8.thumb', 1: 'http://www.image-net.org/nodes/12/02374451/6e/6e2ec2c07c2077db9e8e8d9b9d63b6cdca419259.thumb', 2: 'http://www.image-net.org/nodes/12/02374451/72/72a0537a0751bf81ddf96d809043319faa7a4b91.thumb', 3: 'http://www.image-net.org/nodes/12/02374451/02/02da7f72caeecc3dfb5cf9c09652f56e051334bf.thumb', 4: 'http://www.image-net.org/nodes/12/02374451/2a/2a1621511296e22c0975170a52eb8a8abc5f93e3.thumb', 5: 'http://www.image-net.org/nodes/12/02374451/7f/7f3844888fecc8bd91c81c933c96a5996da0dc1a.thumb', 6: 'http://www.image-net.org/nodes/12/02374451/8e/8e275719891f55cedb26035b94d239e370ed43f7.thumb', 7: 'http://www.image-net.org/nodes/12/02374451/14/14d659dd8af3c9bf36f17a81cf0d02247a1debfd.thumb', 8: 'http://www.image-net.org/nodes/12/02374451/28/2833911dc3ff5d0456f7d26a1ee9a8a3687decae.thumb', 9: 'http://www.image-net.org/nodes/12/02374451/2a/2a1621511296e22c0975170a52eb8a8abc5f93e3.thumb', 10: 'http://www.image-net.org/nodes/11/02958343/7d/7d816522144f156e806a8303178af8282adef8bc.thumb', 11: 'http://www.image-net.org/nodes/11/02958343/25/252e02f20ed36d0e46d119b8163a717480167af2.thumb', 12: 'http://www.image-net.org/nodes/11/02958343/21/21fa37e90260426da537447beae5d6c661bde2fe.thumb', 13: 'http://www.image-net.org/nodes/11/02958343/22/223b2e69f580ae2bd791f54b33f3dd65929afecf.thumb', 14: 'http://www.image-net.org/nodes/11/02958343/18/18690d47fc105a3f41a4d4e95afdde36c1641efc.thumb', 15: 'http://www.image-net.org/nodes/11/02958343/1e/1ea918e542190435739b801aaa64c626e3f28ce7.thumb', 16: 'http://www.image-net.org/nodes/11/02958343/b0/b0a42544ed65e1831b93783ce705b8b9091f854a.thumb', 17: 'http://www.image-net.org/nodes/11/02958343/24/247bb6715d4ba47dccbe6d2ac98a5a4f3c4306ac.thumb', 18: 'http://www.image-net.org/nodes/11/02958343/f1/f17e62406d9e7265b427645d13f5dbb9384039d1.thumb', 19: 'http://www.image-net.org/nodes/11/02958343/20/20fbbabe5510413df3c3f799e14a3500f8a8f0c9.thumb', 20: 'http://www.image-net.org/nodes/14/02430045/8f/8f05fa73ad41203104dcbbb66a73bb2353ebd315.thumb', 21: 'http://www.image-net.org/nodes/14/02430045/14/1400e50716a30c952dee4070956e71b2169226e2.thumb', 22: 'http://www.image-net.org/nodes/14/02430045/9e/9ef0cb3d722793dd0da5435bd875f19beef659d7.thumb', 23: 'http://www.image-net.org/nodes/14/02430045/a0/a032cab23742451d3e1b3f18672941487f5dcb82.thumb', 24: 'http://www.image-net.org/nodes/14/02430045/18/18df76fe17d05b7f70428c7aa9a62849bcc4fada.thumb', 25: 'http://www.image-net.org/nodes/14/02430045/bd/bd94a38e4348227e5f448c3f6ba54061e863a1a2.thumb', 26: 'http://www.image-net.org/nodes/14/02430045/a1/a1b8cfca6a364c44f6e209a70aa267c66f56c40a.thumb', 27: 'http://www.image-net.org/nodes/14/02430045/a8/a89c79dc81f074c7f276fce9d341f93e4455f32a.thumb', 28: 'http://www.image-net.org/nodes/14/02430045/43/43b39322550b02c8946b23a9d9783180a249d6f1.thumb', 29: 'http://www.image-net.org/nodes/14/02430045/c1/c127579262a3570a7159e8ba30a1a7b0d441b487.thumb', 30: 'http://www.image-net.org/nodes/14/02430045/dc/dc967d2b44648054b8933d834485e70f5748f312.thumb', 31: 'http://www.image-net.org/nodes/14/02430045/49/495b063e422de1a09113a17c78fe153286bf5dd7.thumb', 32: 'http://www.image-net.org/nodes/11/02084071/5f/5f094c4993438264fff75ef5833db81bd777d7a8.thumb', 33: 'http://www.image-net.org/nodes/11/02084071/31/3132c60145545a6b994cdb1bd38b0ab284938ed5.thumb', 34: 'http://www.image-net.org/nodes/11/02084071/04/042119dd456fd3bfe612dcbe17213d0852b99392.thumb', 35: 'http://www.image-net.org/nodes/11/02084071/3c/3c003d17c79eb1724e38f00e3eb0aaa7f8b5c595.thumb', 36: 'http://www.image-net.org/nodes/11/02084071/f8/f83c47b53028dff003a2ca627a951a767a28b257.thumb', 37: 'http://www.image-net.org/nodes/11/02084071/16/16336218e45d644bb60d089e5a9e2bbbe46b745f.thumb', 38: 'http://www.image-net.org/nodes/11/02084071/16/16476565a4f8a7111d0cc9fa7ec9aa11b624cbc3.thumb', 39: 'http://www.image-net.org/nodes/11/02084071/f8/f8221715995921a017581e7896de39cc36ccacaf.thumb', 40: 'http://www.image-net.org/nodes/11/02084071/16/1647cde19260d3f67983c950f8648eb9f41d5aa3.thumb', 41: 'http://www.image-net.org/nodes/11/02084071/79/79d654a749937bcc33bae23ee991c188adf2167d.thumb', 42: 'http://www.image-net.org/nodes/11/02084071/31/31765f7d096bddab9e79b9c1e6c9d6bf7b1417be.thumb', 43: 'http://www.image-net.org/nodes/9/01639765/2d/2d5c39e1c3d296d0c2cececb3ac8f279f3cdc86b.thumb', 44: 'http://www.image-net.org/nodes/9/01639765/0e/0edd41b2eb9a12513568f4c22faf806a2247f711.thumb', 45: 'http://www.image-net.org/nodes/9/01639765/25/255a82732c3c9ae16ce1500e5faa96b948ab798b.thumb', 46: 'http://www.image-net.org/nodes/9/01639765/1a/1a1a213d69135c0f490e007908dd24b13dd29432.thumb', 47: 'http://www.image-net.org/nodes/9/01639765/14/1463c54d4cd7bbd4084f31dfd0ee62ea9c557683.thumb', 48: 'http://www.image-net.org/nodes/9/01639765/44/44f11a8825dbf15a6a17b3f912b344e654ef7606.thumb', 49: 'http://www.image-net.org/nodes/9/01639765/57/5702e7cb54786791b3f731e3dd21f04cc53090f4.thumb', 50: 'http://www.image-net.org/nodes/9/01639765/23/231c242bb57532dea1dc5a7c9bb138a2b0b9acb4.thumb', 51: 'http://www.image-net.org/nodes/9/01639765/10/1081620778a6c40c736744d4d8aee57534a4f19e.thumb', 52: 'http://www.image-net.org/nodes/9/01639765/01/01149ee70c19862f1608c6f4748e8db825ae68d9.thumb', 53: 'http://www.image-net.org/nodes/9/01639765/1d/1ddb8166710bc22ffb36ae5159cfafb681e24831.thumb', 54: 'http://www.image-net.org/nodes/6/02121620/ba/ba001acd71960b0d72c1a6305fdc5f827461af9e.thumb', 55: 'http://www.image-net.org/nodes/6/02121620/a7/a720dfa060a67728184bc60a234f158ec2b3cf3e.thumb', 56: 'http://www.image-net.org/nodes/6/02121620/86/8657d14ffb78e2499c7e28e8be8de5d6f928c7e5.thumb', 57: 'http://www.image-net.org/nodes/6/02121620/3a/3ab90842f77ce7ebc718795c951694246b993cfc.thumb', 58: 'http://www.image-net.org/nodes/6/02121620/7b/7b4d25ec2b67845d6c67af74ede35fe6785f8915.thumb', 59: 'http://www.image-net.org/nodes/6/02121620/bf/bf964ce927a04a24187106d257f39840b0fe742b.thumb', 60: 'http://www.image-net.org/nodes/6/02121620/95/954bc281f7545b3dfcb695384dfdd5f4fa10461e.thumb', 61: 'http://www.image-net.org/nodes/6/02121620/8a/8ab7fefb683c9ddc7be4c8791855c0a60c036cec.thumb', 62: 'http://www.image-net.org/nodes/6/02121620/42/42415dbd19a06954bacb8a533e2e9bc34987bb51.thumb', 63: 'http://www.image-net.org/nodes/6/02121620/ed/ed4d8d2efe00cba64ad5ae56621c14c64bd48cb8.thumb', 64: 'http://www.image-net.org/nodes/1/04490091/8d/8d902e72ab1f2ffab22dc578ae2e9a760ebec50f.thumb', 65: 'http://www.image-net.org/nodes/1/04490091/86/86ca307cdf966d02afb7386329bbc6825d6eaac8.thumb', 66: 'http://www.image-net.org/nodes/1/04490091/25/2570323e19db3ed730804b31531b38a7cc7588d5.thumb', 67: 'http://www.image-net.org/nodes/1/04490091/87/87813e2aa5c7c9a9959b811a3e7ddfa9f70780df.thumb', 68: 'http://www.image-net.org/nodes/1/04490091/0d/0dacfa8c72ce0c115efa65f8b78585b7ba3f9b4d.thumb', 69: 'http://www.image-net.org/nodes/1/04490091/86/86ca307cdf966d02afb7386329bbc6825d6eaac8.thumb', 70: 'http://www.image-net.org/nodes/1/04490091/85/85ffa518acdc687794ea5582040785eab2fdfe28.thumb', 71: 'http://www.image-net.org/nodes/1/04490091/84/8446ed371710c9b643388f7cbdedc101011a697d.thumb', 72: 'http://www.image-net.org/nodes/1/04490091/3c/3cd52085b99f39b473c26022e431b09625ef6faf.thumb', 73: 'http://www.image-net.org/nodes/1/04490091/90/9091ba5d4bc43059868b9aaaf2276b72573ecf7a.thumb', 74: 'http://www.image-net.org/nodes/1/04194289/01/017c23253cf1a6433e842efe063064aa01b686e3.thumb', 75: 'http://www.image-net.org/nodes/1/04194289/04/040f544e5031fc9aef9b68c94066fde4385e85a0.thumb', 76: 'http://www.image-net.org/nodes/1/04194289/65/65f24cbaf287c0260f8bcff4b5b9c85e8e358770.thumb', 77: 'http://www.image-net.org/nodes/1/04194289/07/07ecd16cc6ba47080b4ca8ce05e3f090662bff03.thumb', 78: 'http://www.image-net.org/nodes/1/04194289/6e/6e0ad061818097268cf59eca68410f30515d7929.thumb', 79: 'http://www.image-net.org/nodes/1/04194289/09/091e2761b9042a5188a16cb70b59dc893e808f99.thumb', 80: 'http://www.image-net.org/nodes/1/04194289/0c/0c58973edc0a818f4e19c00e1e550ef20b5fe2ca.thumb', 81: 'http://www.image-net.org/nodes/1/04194289/76/766a4f3c92ec1c31527efc8a1bad654b328e9d7f.thumb', 82: 'http://www.image-net.org/nodes/1/04194289/10/102e259b534df954394613dde3dc3dd2263cf75e.thumb', 83: 'http://www.image-net.org/nodes/1/04194289/14/14e3a9cc71c63c97a3d5e62f275620b6755979ff.thumb', 84: 'http://www.image-net.org/nodes/1/04194289/8f/8f74fa0e5186c68690bd7985f8d89870a2b8ba40.thumb', 85: 'http://www.image-net.org/nodes/1/04194289/1f/1f6ddbee1398d469ae80e2bba57cfb17e40fcb5d.thumb', 86: 'http://www.image-net.org/nodes/1/04194289/a9/a9f4d39df72b193390fe4264ca2187b131b41319.thumb', 87: 'http://www.image-net.org/nodes/1/04194289/27/275417e7320ebd05c10331e2aeb4c7c5d7d2b135.thumb', 88: 'http://www.image-net.org/nodes/1/04194289/30/30350ba766da3148b99d82284b3e5eeee5d7cc12.thumb', 89: 'http://www.image-net.org/nodes/1/02691156/17/17af00938daad80b5e97027f6b3a3e1f1627aea2.thumb', 90: 'http://www.image-net.org/nodes/1/02691156/15/15d05611a4a4cbad69a8a9f82bfac76bb2a53524.thumb', 91: 'http://www.image-net.org/nodes/1/02691156/2f/2fffd24a51bee29569f275e291fb251305626664.thumb', 92: 'http://www.image-net.org/nodes/1/02691156/0b/0b7ce0fe91e9d18c68cd781ad8e2b096a6be7a71.thumb', 93: 'http://www.image-net.org/nodes/1/02691156/29/29648e979d1e9a117ee62bf6326c9ad8078a0d2b.thumb', 94: 'http://www.image-net.org/nodes/1/02691156/14/147c143ab577a44330950d5c0bd122abe5e5a8c9.thumb', 95: 'http://www.image-net.org/nodes/1/02691156/29/29648e979d1e9a117ee62bf6326c9ad8078a0d2b.thumb', 96: 'http://www.image-net.org/nodes/1/02691156/0a/0a75c894439f217f70d974af1e09c57d6c233592.thumb', 97: 'http://www.image-net.org/nodes/1/02691156/3a/3ad0619a39ada0c5e0d4c6f9aaa948bd483aa796.thumb', 98: 'http://www.image-net.org/nodes/1/02691156/0d/0d35dfa86853848f11fb9673f4101576b1d39dc7.thumb', 99: 'http://www.image-net.org/nodes/1/02691156/16/16326c47b05d3e327a980d13b84ee53189318b6f.thumb', 100: 'http://www.image-net.org/nodes/1/02691156/11/112efe998473d40a34c4b94ae39987b82e269172.thumb', 101: 'http://www.image-net.org/nodes/1/01503061/04/04db22a9bc724ebf1840c6c3631d51790e0f021a.thumb', 102: 'http://www.image-net.org/nodes/1/01503061/18/18741ec60c79cf435f7415254b5a893825a478cd.thumb', 103: 'http://www.image-net.org/nodes/1/01503061/32/32c3c369b25e4300ed8f0a0a28a610782ec6fe11.thumb', 104: 'http://www.image-net.org/nodes/1/01503061/26/268317a7ee67b3d1444fa721c27c2e2379a37954.thumb', 105: 'http://www.image-net.org/nodes/1/01503061/48/48a67825a599652257625eae314c12cba1577e51.thumb', 106: 'http://www.image-net.org/nodes/1/01503061/30/3087122475ec2ebfa43afa0d9a3bdb1516f12950.thumb', 107: 'http://www.image-net.org/nodes/1/01503061/31/31cdbf27e680383cade1e397982c32d72ccf861f.thumb', 108: 'http://www.image-net.org/nodes/1/01503061/0d/0deb99474c15ba02467d90110909cbf941047aa3.thumb', 109: 'http://www.image-net.org/nodes/1/01503061/17/17b797bc373230b67ecd5c93acc92d256a6b16d2.thumb', 110: 'http://www.image-net.org/nodes/1/01503061/2b/2b029977e5e6b2c91aa695ba912f9bb2844bd1e6.thumb', 111: 'http://www.image-net.org/nodes/1/01503061/05/0588c1ee3a3ba62ab9aa59dd4cf82d09d90f8801.thumb', 112: 'http://www.image-net.org/nodes/1/01503061/30/303e767c38cf699654e2d4cc8413b1e0a57dc4a8.thumb', 113: 'http://www.image-net.org/nodes/1/01503061/12/122edc58b7851ff1a06abff97442184adbfa1620.thumb'}\n"
       ]
      }
     ],
     "prompt_number": 31
    },
    {
     "cell_type": "code",
     "collapsed": false,
     "input": [
      "#predict images and find the nearest neighbours\n",
      "for (img_id, imgurl) in id_to_imgurl_map.iteritems():\n",
      "    print(img_id)\n",
      "    print(imgurl)\n",
      "    d1 = {\"url\":imgurl, \"modelId\": \"KevinNet_CIFAR10_48\"}\n",
      "    response = requests.post('http://localhost:8000/v1/caffe_model/predict', \n",
      "                             data=json.dumps(d1), \n",
      "                             headers={'Content-Type': 'application/json'})\n",
      "    print(response.status_code)\n",
      "    vec = json.loads(response.content)\n",
      "    d2 = {\"modelId\":\"model-1\", \"operation\": \"insert\", \"dataPointId\": str(img_id), \"vector\": vec, \"tags\": [\"\"]}\n",
      "    response = requests.post('http://localhost:8000/v1/knn_model/update', \n",
      "                  data= json.dumps(d2), \n",
      "                  headers={'Content-Type': 'application/json'})\n",
      "    print(response.status_code)\n"
     ],
     "language": "python",
     "metadata": {},
     "outputs": [
      {
       "output_type": "stream",
       "stream": "stdout",
       "text": [
        "0\n",
        "http://www.image-net.org/nodes/12/02374451/bd/bd35c9c05d7ccd205b34cb3d4ae4bdcae1a8a8b8.thumb\n",
        "200"
       ]
      },
      {
       "output_type": "stream",
       "stream": "stdout",
       "text": [
        "\n",
        "200\n",
        "1\n",
        "http://www.image-net.org/nodes/12/02374451/6e/6e2ec2c07c2077db9e8e8d9b9d63b6cdca419259.thumb\n",
        "200"
       ]
      },
      {
       "output_type": "stream",
       "stream": "stdout",
       "text": [
        "\n",
        "200\n",
        "2\n",
        "http://www.image-net.org/nodes/12/02374451/72/72a0537a0751bf81ddf96d809043319faa7a4b91.thumb\n",
        "200"
       ]
      },
      {
       "output_type": "stream",
       "stream": "stdout",
       "text": [
        "\n",
        "200\n",
        "3\n",
        "http://www.image-net.org/nodes/12/02374451/02/02da7f72caeecc3dfb5cf9c09652f56e051334bf.thumb\n",
        "200"
       ]
      },
      {
       "output_type": "stream",
       "stream": "stdout",
       "text": [
        "\n",
        "200\n",
        "4\n",
        "http://www.image-net.org/nodes/12/02374451/2a/2a1621511296e22c0975170a52eb8a8abc5f93e3.thumb\n",
        "200"
       ]
      },
      {
       "output_type": "stream",
       "stream": "stdout",
       "text": [
        "\n",
        "200\n",
        "5\n",
        "http://www.image-net.org/nodes/12/02374451/7f/7f3844888fecc8bd91c81c933c96a5996da0dc1a.thumb\n",
        "200"
       ]
      },
      {
       "output_type": "stream",
       "stream": "stdout",
       "text": [
        "\n",
        "200\n",
        "6\n",
        "http://www.image-net.org/nodes/12/02374451/8e/8e275719891f55cedb26035b94d239e370ed43f7.thumb\n",
        "200"
       ]
      },
      {
       "output_type": "stream",
       "stream": "stdout",
       "text": [
        "\n",
        "200\n",
        "7\n",
        "http://www.image-net.org/nodes/12/02374451/14/14d659dd8af3c9bf36f17a81cf0d02247a1debfd.thumb\n",
        "200"
       ]
      },
      {
       "output_type": "stream",
       "stream": "stdout",
       "text": [
        "\n",
        "200\n",
        "8\n",
        "http://www.image-net.org/nodes/12/02374451/28/2833911dc3ff5d0456f7d26a1ee9a8a3687decae.thumb\n",
        "200"
       ]
      },
      {
       "output_type": "stream",
       "stream": "stdout",
       "text": [
        "\n",
        "200\n",
        "9\n",
        "http://www.image-net.org/nodes/12/02374451/2a/2a1621511296e22c0975170a52eb8a8abc5f93e3.thumb\n",
        "200"
       ]
      },
      {
       "output_type": "stream",
       "stream": "stdout",
       "text": [
        "\n",
        "200\n",
        "10\n",
        "http://www.image-net.org/nodes/11/02958343/7d/7d816522144f156e806a8303178af8282adef8bc.thumb\n",
        "200"
       ]
      },
      {
       "output_type": "stream",
       "stream": "stdout",
       "text": [
        "\n",
        "200\n",
        "11\n",
        "http://www.image-net.org/nodes/11/02958343/25/252e02f20ed36d0e46d119b8163a717480167af2.thumb\n",
        "200"
       ]
      },
      {
       "output_type": "stream",
       "stream": "stdout",
       "text": [
        "\n",
        "200\n",
        "12\n",
        "http://www.image-net.org/nodes/11/02958343/21/21fa37e90260426da537447beae5d6c661bde2fe.thumb\n",
        "200"
       ]
      },
      {
       "output_type": "stream",
       "stream": "stdout",
       "text": [
        "\n",
        "200\n",
        "13\n",
        "http://www.image-net.org/nodes/11/02958343/22/223b2e69f580ae2bd791f54b33f3dd65929afecf.thumb\n",
        "200"
       ]
      },
      {
       "output_type": "stream",
       "stream": "stdout",
       "text": [
        "\n",
        "200\n",
        "14\n",
        "http://www.image-net.org/nodes/11/02958343/18/18690d47fc105a3f41a4d4e95afdde36c1641efc.thumb\n",
        "200"
       ]
      },
      {
       "output_type": "stream",
       "stream": "stdout",
       "text": [
        "\n",
        "200\n",
        "15\n",
        "http://www.image-net.org/nodes/11/02958343/1e/1ea918e542190435739b801aaa64c626e3f28ce7.thumb\n",
        "200"
       ]
      },
      {
       "output_type": "stream",
       "stream": "stdout",
       "text": [
        "\n",
        "200\n",
        "16\n",
        "http://www.image-net.org/nodes/11/02958343/b0/b0a42544ed65e1831b93783ce705b8b9091f854a.thumb\n",
        "200"
       ]
      },
      {
       "output_type": "stream",
       "stream": "stdout",
       "text": [
        "\n",
        "200\n",
        "17\n",
        "http://www.image-net.org/nodes/11/02958343/24/247bb6715d4ba47dccbe6d2ac98a5a4f3c4306ac.thumb\n",
        "200"
       ]
      },
      {
       "output_type": "stream",
       "stream": "stdout",
       "text": [
        "\n",
        "200\n",
        "18\n",
        "http://www.image-net.org/nodes/11/02958343/f1/f17e62406d9e7265b427645d13f5dbb9384039d1.thumb\n",
        "200"
       ]
      },
      {
       "output_type": "stream",
       "stream": "stdout",
       "text": [
        "\n",
        "200\n",
        "19\n",
        "http://www.image-net.org/nodes/11/02958343/20/20fbbabe5510413df3c3f799e14a3500f8a8f0c9.thumb\n",
        "200"
       ]
      },
      {
       "output_type": "stream",
       "stream": "stdout",
       "text": [
        "\n",
        "200\n",
        "20\n",
        "http://www.image-net.org/nodes/14/02430045/8f/8f05fa73ad41203104dcbbb66a73bb2353ebd315.thumb\n",
        "200"
       ]
      },
      {
       "output_type": "stream",
       "stream": "stdout",
       "text": [
        "\n",
        "200\n",
        "21\n",
        "http://www.image-net.org/nodes/14/02430045/14/1400e50716a30c952dee4070956e71b2169226e2.thumb\n",
        "200"
       ]
      },
      {
       "output_type": "stream",
       "stream": "stdout",
       "text": [
        "\n",
        "200\n",
        "22\n",
        "http://www.image-net.org/nodes/14/02430045/9e/9ef0cb3d722793dd0da5435bd875f19beef659d7.thumb\n",
        "200"
       ]
      },
      {
       "output_type": "stream",
       "stream": "stdout",
       "text": [
        "\n",
        "200\n",
        "23\n",
        "http://www.image-net.org/nodes/14/02430045/a0/a032cab23742451d3e1b3f18672941487f5dcb82.thumb\n",
        "200"
       ]
      },
      {
       "output_type": "stream",
       "stream": "stdout",
       "text": [
        "\n",
        "200\n",
        "24\n",
        "http://www.image-net.org/nodes/14/02430045/18/18df76fe17d05b7f70428c7aa9a62849bcc4fada.thumb\n",
        "200"
       ]
      },
      {
       "output_type": "stream",
       "stream": "stdout",
       "text": [
        "\n",
        "200\n",
        "25\n",
        "http://www.image-net.org/nodes/14/02430045/bd/bd94a38e4348227e5f448c3f6ba54061e863a1a2.thumb\n",
        "200"
       ]
      },
      {
       "output_type": "stream",
       "stream": "stdout",
       "text": [
        "\n",
        "200\n",
        "26\n",
        "http://www.image-net.org/nodes/14/02430045/a1/a1b8cfca6a364c44f6e209a70aa267c66f56c40a.thumb\n",
        "200"
       ]
      },
      {
       "output_type": "stream",
       "stream": "stdout",
       "text": [
        "\n",
        "200\n",
        "27\n",
        "http://www.image-net.org/nodes/14/02430045/a8/a89c79dc81f074c7f276fce9d341f93e4455f32a.thumb\n",
        "200"
       ]
      },
      {
       "output_type": "stream",
       "stream": "stdout",
       "text": [
        "\n",
        "200\n",
        "28\n",
        "http://www.image-net.org/nodes/14/02430045/43/43b39322550b02c8946b23a9d9783180a249d6f1.thumb\n",
        "200"
       ]
      },
      {
       "output_type": "stream",
       "stream": "stdout",
       "text": [
        "\n",
        "200\n",
        "29\n",
        "http://www.image-net.org/nodes/14/02430045/c1/c127579262a3570a7159e8ba30a1a7b0d441b487.thumb\n",
        "200"
       ]
      },
      {
       "output_type": "stream",
       "stream": "stdout",
       "text": [
        "\n",
        "200\n",
        "30\n",
        "http://www.image-net.org/nodes/14/02430045/dc/dc967d2b44648054b8933d834485e70f5748f312.thumb\n",
        "200"
       ]
      },
      {
       "output_type": "stream",
       "stream": "stdout",
       "text": [
        "\n",
        "200\n",
        "31\n",
        "http://www.image-net.org/nodes/14/02430045/49/495b063e422de1a09113a17c78fe153286bf5dd7.thumb\n",
        "200"
       ]
      },
      {
       "output_type": "stream",
       "stream": "stdout",
       "text": [
        "\n",
        "200\n",
        "32\n",
        "http://www.image-net.org/nodes/11/02084071/5f/5f094c4993438264fff75ef5833db81bd777d7a8.thumb\n",
        "200"
       ]
      },
      {
       "output_type": "stream",
       "stream": "stdout",
       "text": [
        "\n",
        "200\n",
        "33\n",
        "http://www.image-net.org/nodes/11/02084071/31/3132c60145545a6b994cdb1bd38b0ab284938ed5.thumb\n",
        "200"
       ]
      },
      {
       "output_type": "stream",
       "stream": "stdout",
       "text": [
        "\n",
        "200\n",
        "34\n",
        "http://www.image-net.org/nodes/11/02084071/04/042119dd456fd3bfe612dcbe17213d0852b99392.thumb\n",
        "200"
       ]
      },
      {
       "output_type": "stream",
       "stream": "stdout",
       "text": [
        "\n",
        "200\n",
        "35\n",
        "http://www.image-net.org/nodes/11/02084071/3c/3c003d17c79eb1724e38f00e3eb0aaa7f8b5c595.thumb\n",
        "200"
       ]
      },
      {
       "output_type": "stream",
       "stream": "stdout",
       "text": [
        "\n",
        "200\n",
        "36\n",
        "http://www.image-net.org/nodes/11/02084071/f8/f83c47b53028dff003a2ca627a951a767a28b257.thumb\n",
        "200"
       ]
      },
      {
       "output_type": "stream",
       "stream": "stdout",
       "text": [
        "\n",
        "200\n",
        "37\n",
        "http://www.image-net.org/nodes/11/02084071/16/16336218e45d644bb60d089e5a9e2bbbe46b745f.thumb\n",
        "200"
       ]
      },
      {
       "output_type": "stream",
       "stream": "stdout",
       "text": [
        "\n",
        "200\n",
        "38\n",
        "http://www.image-net.org/nodes/11/02084071/16/16476565a4f8a7111d0cc9fa7ec9aa11b624cbc3.thumb\n",
        "200"
       ]
      },
      {
       "output_type": "stream",
       "stream": "stdout",
       "text": [
        "\n",
        "200\n",
        "39\n",
        "http://www.image-net.org/nodes/11/02084071/f8/f8221715995921a017581e7896de39cc36ccacaf.thumb\n",
        "200"
       ]
      },
      {
       "output_type": "stream",
       "stream": "stdout",
       "text": [
        "\n",
        "200\n",
        "40\n",
        "http://www.image-net.org/nodes/11/02084071/16/1647cde19260d3f67983c950f8648eb9f41d5aa3.thumb\n",
        "200"
       ]
      },
      {
       "output_type": "stream",
       "stream": "stdout",
       "text": [
        "\n",
        "200\n",
        "41\n",
        "http://www.image-net.org/nodes/11/02084071/79/79d654a749937bcc33bae23ee991c188adf2167d.thumb\n",
        "200"
       ]
      },
      {
       "output_type": "stream",
       "stream": "stdout",
       "text": [
        "\n",
        "200\n",
        "42\n",
        "http://www.image-net.org/nodes/11/02084071/31/31765f7d096bddab9e79b9c1e6c9d6bf7b1417be.thumb\n",
        "200"
       ]
      },
      {
       "output_type": "stream",
       "stream": "stdout",
       "text": [
        "\n",
        "200\n",
        "43\n",
        "http://www.image-net.org/nodes/9/01639765/2d/2d5c39e1c3d296d0c2cececb3ac8f279f3cdc86b.thumb\n",
        "200"
       ]
      },
      {
       "output_type": "stream",
       "stream": "stdout",
       "text": [
        "\n",
        "200\n",
        "44\n",
        "http://www.image-net.org/nodes/9/01639765/0e/0edd41b2eb9a12513568f4c22faf806a2247f711.thumb\n",
        "200"
       ]
      },
      {
       "output_type": "stream",
       "stream": "stdout",
       "text": [
        "\n",
        "200\n",
        "45\n",
        "http://www.image-net.org/nodes/9/01639765/25/255a82732c3c9ae16ce1500e5faa96b948ab798b.thumb\n",
        "200"
       ]
      },
      {
       "output_type": "stream",
       "stream": "stdout",
       "text": [
        "\n",
        "200\n",
        "46\n",
        "http://www.image-net.org/nodes/9/01639765/1a/1a1a213d69135c0f490e007908dd24b13dd29432.thumb\n",
        "200"
       ]
      },
      {
       "output_type": "stream",
       "stream": "stdout",
       "text": [
        "\n",
        "200\n",
        "47\n",
        "http://www.image-net.org/nodes/9/01639765/14/1463c54d4cd7bbd4084f31dfd0ee62ea9c557683.thumb\n",
        "200"
       ]
      },
      {
       "output_type": "stream",
       "stream": "stdout",
       "text": [
        "\n",
        "200\n",
        "48\n",
        "http://www.image-net.org/nodes/9/01639765/44/44f11a8825dbf15a6a17b3f912b344e654ef7606.thumb\n",
        "200"
       ]
      },
      {
       "output_type": "stream",
       "stream": "stdout",
       "text": [
        "\n",
        "200\n",
        "49\n",
        "http://www.image-net.org/nodes/9/01639765/57/5702e7cb54786791b3f731e3dd21f04cc53090f4.thumb\n",
        "200"
       ]
      },
      {
       "output_type": "stream",
       "stream": "stdout",
       "text": [
        "\n",
        "200\n",
        "50\n",
        "http://www.image-net.org/nodes/9/01639765/23/231c242bb57532dea1dc5a7c9bb138a2b0b9acb4.thumb\n",
        "200"
       ]
      },
      {
       "output_type": "stream",
       "stream": "stdout",
       "text": [
        "\n",
        "200\n",
        "51\n",
        "http://www.image-net.org/nodes/9/01639765/10/1081620778a6c40c736744d4d8aee57534a4f19e.thumb\n",
        "200"
       ]
      },
      {
       "output_type": "stream",
       "stream": "stdout",
       "text": [
        "\n",
        "200\n",
        "52\n",
        "http://www.image-net.org/nodes/9/01639765/01/01149ee70c19862f1608c6f4748e8db825ae68d9.thumb\n",
        "200"
       ]
      },
      {
       "output_type": "stream",
       "stream": "stdout",
       "text": [
        "\n",
        "200\n",
        "53\n",
        "http://www.image-net.org/nodes/9/01639765/1d/1ddb8166710bc22ffb36ae5159cfafb681e24831.thumb\n",
        "200"
       ]
      },
      {
       "output_type": "stream",
       "stream": "stdout",
       "text": [
        "\n",
        "200\n",
        "54\n",
        "http://www.image-net.org/nodes/6/02121620/ba/ba001acd71960b0d72c1a6305fdc5f827461af9e.thumb\n",
        "200"
       ]
      },
      {
       "output_type": "stream",
       "stream": "stdout",
       "text": [
        "\n",
        "200\n",
        "55\n",
        "http://www.image-net.org/nodes/6/02121620/a7/a720dfa060a67728184bc60a234f158ec2b3cf3e.thumb\n",
        "200"
       ]
      },
      {
       "output_type": "stream",
       "stream": "stdout",
       "text": [
        "\n",
        "200\n",
        "56\n",
        "http://www.image-net.org/nodes/6/02121620/86/8657d14ffb78e2499c7e28e8be8de5d6f928c7e5.thumb\n",
        "200"
       ]
      },
      {
       "output_type": "stream",
       "stream": "stdout",
       "text": [
        "\n",
        "200\n",
        "57\n",
        "http://www.image-net.org/nodes/6/02121620/3a/3ab90842f77ce7ebc718795c951694246b993cfc.thumb\n",
        "200"
       ]
      },
      {
       "output_type": "stream",
       "stream": "stdout",
       "text": [
        "\n",
        "200\n",
        "58\n",
        "http://www.image-net.org/nodes/6/02121620/7b/7b4d25ec2b67845d6c67af74ede35fe6785f8915.thumb\n",
        "200"
       ]
      },
      {
       "output_type": "stream",
       "stream": "stdout",
       "text": [
        "\n",
        "200\n",
        "59\n",
        "http://www.image-net.org/nodes/6/02121620/bf/bf964ce927a04a24187106d257f39840b0fe742b.thumb\n",
        "200"
       ]
      },
      {
       "output_type": "stream",
       "stream": "stdout",
       "text": [
        "\n",
        "200\n",
        "60\n",
        "http://www.image-net.org/nodes/6/02121620/95/954bc281f7545b3dfcb695384dfdd5f4fa10461e.thumb\n",
        "200"
       ]
      },
      {
       "output_type": "stream",
       "stream": "stdout",
       "text": [
        "\n",
        "200\n",
        "61\n",
        "http://www.image-net.org/nodes/6/02121620/8a/8ab7fefb683c9ddc7be4c8791855c0a60c036cec.thumb\n",
        "200"
       ]
      },
      {
       "output_type": "stream",
       "stream": "stdout",
       "text": [
        "\n",
        "200\n",
        "62\n",
        "http://www.image-net.org/nodes/6/02121620/42/42415dbd19a06954bacb8a533e2e9bc34987bb51.thumb\n",
        "200"
       ]
      },
      {
       "output_type": "stream",
       "stream": "stdout",
       "text": [
        "\n",
        "200\n",
        "63\n",
        "http://www.image-net.org/nodes/6/02121620/ed/ed4d8d2efe00cba64ad5ae56621c14c64bd48cb8.thumb\n",
        "200"
       ]
      },
      {
       "output_type": "stream",
       "stream": "stdout",
       "text": [
        "\n",
        "200\n",
        "64\n",
        "http://www.image-net.org/nodes/1/04490091/8d/8d902e72ab1f2ffab22dc578ae2e9a760ebec50f.thumb\n",
        "200"
       ]
      },
      {
       "output_type": "stream",
       "stream": "stdout",
       "text": [
        "\n",
        "200\n",
        "65\n",
        "http://www.image-net.org/nodes/1/04490091/86/86ca307cdf966d02afb7386329bbc6825d6eaac8.thumb\n",
        "200"
       ]
      },
      {
       "output_type": "stream",
       "stream": "stdout",
       "text": [
        "\n",
        "200\n",
        "66\n",
        "http://www.image-net.org/nodes/1/04490091/25/2570323e19db3ed730804b31531b38a7cc7588d5.thumb\n",
        "200"
       ]
      },
      {
       "output_type": "stream",
       "stream": "stdout",
       "text": [
        "\n",
        "200\n",
        "67\n",
        "http://www.image-net.org/nodes/1/04490091/87/87813e2aa5c7c9a9959b811a3e7ddfa9f70780df.thumb\n",
        "200"
       ]
      },
      {
       "output_type": "stream",
       "stream": "stdout",
       "text": [
        "\n",
        "200\n",
        "68\n",
        "http://www.image-net.org/nodes/1/04490091/0d/0dacfa8c72ce0c115efa65f8b78585b7ba3f9b4d.thumb\n",
        "200"
       ]
      },
      {
       "output_type": "stream",
       "stream": "stdout",
       "text": [
        "\n",
        "200\n",
        "69\n",
        "http://www.image-net.org/nodes/1/04490091/86/86ca307cdf966d02afb7386329bbc6825d6eaac8.thumb\n",
        "200"
       ]
      },
      {
       "output_type": "stream",
       "stream": "stdout",
       "text": [
        "\n",
        "200\n",
        "70\n",
        "http://www.image-net.org/nodes/1/04490091/85/85ffa518acdc687794ea5582040785eab2fdfe28.thumb\n",
        "200"
       ]
      },
      {
       "output_type": "stream",
       "stream": "stdout",
       "text": [
        "\n",
        "200\n",
        "71\n",
        "http://www.image-net.org/nodes/1/04490091/84/8446ed371710c9b643388f7cbdedc101011a697d.thumb\n",
        "200"
       ]
      },
      {
       "output_type": "stream",
       "stream": "stdout",
       "text": [
        "\n",
        "200\n",
        "72\n",
        "http://www.image-net.org/nodes/1/04490091/3c/3cd52085b99f39b473c26022e431b09625ef6faf.thumb\n",
        "200"
       ]
      },
      {
       "output_type": "stream",
       "stream": "stdout",
       "text": [
        "\n",
        "200\n",
        "73\n",
        "http://www.image-net.org/nodes/1/04490091/90/9091ba5d4bc43059868b9aaaf2276b72573ecf7a.thumb\n",
        "200"
       ]
      },
      {
       "output_type": "stream",
       "stream": "stdout",
       "text": [
        "\n",
        "200\n",
        "74\n",
        "http://www.image-net.org/nodes/1/04194289/01/017c23253cf1a6433e842efe063064aa01b686e3.thumb\n",
        "200"
       ]
      },
      {
       "output_type": "stream",
       "stream": "stdout",
       "text": [
        "\n",
        "200\n",
        "75\n",
        "http://www.image-net.org/nodes/1/04194289/04/040f544e5031fc9aef9b68c94066fde4385e85a0.thumb\n",
        "200"
       ]
      },
      {
       "output_type": "stream",
       "stream": "stdout",
       "text": [
        "\n",
        "200\n",
        "76\n",
        "http://www.image-net.org/nodes/1/04194289/65/65f24cbaf287c0260f8bcff4b5b9c85e8e358770.thumb\n",
        "200"
       ]
      },
      {
       "output_type": "stream",
       "stream": "stdout",
       "text": [
        "\n",
        "200\n",
        "77\n",
        "http://www.image-net.org/nodes/1/04194289/07/07ecd16cc6ba47080b4ca8ce05e3f090662bff03.thumb\n",
        "200"
       ]
      },
      {
       "output_type": "stream",
       "stream": "stdout",
       "text": [
        "\n",
        "200\n",
        "78\n",
        "http://www.image-net.org/nodes/1/04194289/6e/6e0ad061818097268cf59eca68410f30515d7929.thumb\n",
        "200"
       ]
      },
      {
       "output_type": "stream",
       "stream": "stdout",
       "text": [
        "\n",
        "200\n",
        "79\n",
        "http://www.image-net.org/nodes/1/04194289/09/091e2761b9042a5188a16cb70b59dc893e808f99.thumb\n",
        "200"
       ]
      },
      {
       "output_type": "stream",
       "stream": "stdout",
       "text": [
        "\n",
        "200\n",
        "80\n",
        "http://www.image-net.org/nodes/1/04194289/0c/0c58973edc0a818f4e19c00e1e550ef20b5fe2ca.thumb\n",
        "200"
       ]
      },
      {
       "output_type": "stream",
       "stream": "stdout",
       "text": [
        "\n",
        "200\n",
        "81\n",
        "http://www.image-net.org/nodes/1/04194289/76/766a4f3c92ec1c31527efc8a1bad654b328e9d7f.thumb\n",
        "200"
       ]
      },
      {
       "output_type": "stream",
       "stream": "stdout",
       "text": [
        "\n",
        "200\n",
        "82\n",
        "http://www.image-net.org/nodes/1/04194289/10/102e259b534df954394613dde3dc3dd2263cf75e.thumb\n",
        "200"
       ]
      },
      {
       "output_type": "stream",
       "stream": "stdout",
       "text": [
        "\n",
        "200\n",
        "83\n",
        "http://www.image-net.org/nodes/1/04194289/14/14e3a9cc71c63c97a3d5e62f275620b6755979ff.thumb\n",
        "200"
       ]
      },
      {
       "output_type": "stream",
       "stream": "stdout",
       "text": [
        "\n",
        "200\n",
        "84\n",
        "http://www.image-net.org/nodes/1/04194289/8f/8f74fa0e5186c68690bd7985f8d89870a2b8ba40.thumb\n",
        "200"
       ]
      },
      {
       "output_type": "stream",
       "stream": "stdout",
       "text": [
        "\n",
        "200\n",
        "85\n",
        "http://www.image-net.org/nodes/1/04194289/1f/1f6ddbee1398d469ae80e2bba57cfb17e40fcb5d.thumb\n",
        "200"
       ]
      },
      {
       "output_type": "stream",
       "stream": "stdout",
       "text": [
        "\n",
        "200\n",
        "86\n",
        "http://www.image-net.org/nodes/1/04194289/a9/a9f4d39df72b193390fe4264ca2187b131b41319.thumb\n",
        "200"
       ]
      },
      {
       "output_type": "stream",
       "stream": "stdout",
       "text": [
        "\n",
        "200\n",
        "87\n",
        "http://www.image-net.org/nodes/1/04194289/27/275417e7320ebd05c10331e2aeb4c7c5d7d2b135.thumb\n",
        "200"
       ]
      },
      {
       "output_type": "stream",
       "stream": "stdout",
       "text": [
        "\n",
        "200\n",
        "88\n",
        "http://www.image-net.org/nodes/1/04194289/30/30350ba766da3148b99d82284b3e5eeee5d7cc12.thumb\n",
        "200"
       ]
      },
      {
       "output_type": "stream",
       "stream": "stdout",
       "text": [
        "\n",
        "200\n",
        "89\n",
        "http://www.image-net.org/nodes/1/02691156/17/17af00938daad80b5e97027f6b3a3e1f1627aea2.thumb\n",
        "200"
       ]
      },
      {
       "output_type": "stream",
       "stream": "stdout",
       "text": [
        "\n",
        "200\n",
        "90\n",
        "http://www.image-net.org/nodes/1/02691156/15/15d05611a4a4cbad69a8a9f82bfac76bb2a53524.thumb\n",
        "200"
       ]
      },
      {
       "output_type": "stream",
       "stream": "stdout",
       "text": [
        "\n",
        "200\n",
        "91\n",
        "http://www.image-net.org/nodes/1/02691156/2f/2fffd24a51bee29569f275e291fb251305626664.thumb\n",
        "200"
       ]
      },
      {
       "output_type": "stream",
       "stream": "stdout",
       "text": [
        "\n",
        "200\n",
        "92\n",
        "http://www.image-net.org/nodes/1/02691156/0b/0b7ce0fe91e9d18c68cd781ad8e2b096a6be7a71.thumb\n",
        "200"
       ]
      },
      {
       "output_type": "stream",
       "stream": "stdout",
       "text": [
        "\n",
        "200\n",
        "93\n",
        "http://www.image-net.org/nodes/1/02691156/29/29648e979d1e9a117ee62bf6326c9ad8078a0d2b.thumb\n",
        "200"
       ]
      },
      {
       "output_type": "stream",
       "stream": "stdout",
       "text": [
        "\n",
        "200\n",
        "94\n",
        "http://www.image-net.org/nodes/1/02691156/14/147c143ab577a44330950d5c0bd122abe5e5a8c9.thumb\n",
        "200"
       ]
      },
      {
       "output_type": "stream",
       "stream": "stdout",
       "text": [
        "\n",
        "200\n",
        "95\n",
        "http://www.image-net.org/nodes/1/02691156/29/29648e979d1e9a117ee62bf6326c9ad8078a0d2b.thumb\n",
        "200"
       ]
      },
      {
       "output_type": "stream",
       "stream": "stdout",
       "text": [
        "\n",
        "200\n",
        "96\n",
        "http://www.image-net.org/nodes/1/02691156/0a/0a75c894439f217f70d974af1e09c57d6c233592.thumb\n",
        "200"
       ]
      },
      {
       "output_type": "stream",
       "stream": "stdout",
       "text": [
        "\n",
        "200\n",
        "97\n",
        "http://www.image-net.org/nodes/1/02691156/3a/3ad0619a39ada0c5e0d4c6f9aaa948bd483aa796.thumb\n",
        "200"
       ]
      },
      {
       "output_type": "stream",
       "stream": "stdout",
       "text": [
        "\n",
        "200\n",
        "98\n",
        "http://www.image-net.org/nodes/1/02691156/0d/0d35dfa86853848f11fb9673f4101576b1d39dc7.thumb\n",
        "200"
       ]
      },
      {
       "output_type": "stream",
       "stream": "stdout",
       "text": [
        "\n",
        "200\n",
        "99\n",
        "http://www.image-net.org/nodes/1/02691156/16/16326c47b05d3e327a980d13b84ee53189318b6f.thumb\n",
        "200"
       ]
      },
      {
       "output_type": "stream",
       "stream": "stdout",
       "text": [
        "\n",
        "200\n",
        "100\n",
        "http://www.image-net.org/nodes/1/02691156/11/112efe998473d40a34c4b94ae39987b82e269172.thumb\n",
        "200"
       ]
      },
      {
       "output_type": "stream",
       "stream": "stdout",
       "text": [
        "\n",
        "200\n",
        "101\n",
        "http://www.image-net.org/nodes/1/01503061/04/04db22a9bc724ebf1840c6c3631d51790e0f021a.thumb\n",
        "200"
       ]
      },
      {
       "output_type": "stream",
       "stream": "stdout",
       "text": [
        "\n",
        "200\n",
        "102\n",
        "http://www.image-net.org/nodes/1/01503061/18/18741ec60c79cf435f7415254b5a893825a478cd.thumb\n",
        "200"
       ]
      },
      {
       "output_type": "stream",
       "stream": "stdout",
       "text": [
        "\n",
        "200\n",
        "103\n",
        "http://www.image-net.org/nodes/1/01503061/32/32c3c369b25e4300ed8f0a0a28a610782ec6fe11.thumb\n",
        "200"
       ]
      },
      {
       "output_type": "stream",
       "stream": "stdout",
       "text": [
        "\n",
        "200\n",
        "104\n",
        "http://www.image-net.org/nodes/1/01503061/26/268317a7ee67b3d1444fa721c27c2e2379a37954.thumb\n",
        "200"
       ]
      },
      {
       "output_type": "stream",
       "stream": "stdout",
       "text": [
        "\n",
        "200\n",
        "105\n",
        "http://www.image-net.org/nodes/1/01503061/48/48a67825a599652257625eae314c12cba1577e51.thumb\n",
        "200"
       ]
      },
      {
       "output_type": "stream",
       "stream": "stdout",
       "text": [
        "\n",
        "200\n",
        "106\n",
        "http://www.image-net.org/nodes/1/01503061/30/3087122475ec2ebfa43afa0d9a3bdb1516f12950.thumb\n",
        "200"
       ]
      },
      {
       "output_type": "stream",
       "stream": "stdout",
       "text": [
        "\n",
        "200\n",
        "107\n",
        "http://www.image-net.org/nodes/1/01503061/31/31cdbf27e680383cade1e397982c32d72ccf861f.thumb\n",
        "200"
       ]
      },
      {
       "output_type": "stream",
       "stream": "stdout",
       "text": [
        "\n",
        "200\n",
        "108\n",
        "http://www.image-net.org/nodes/1/01503061/0d/0deb99474c15ba02467d90110909cbf941047aa3.thumb\n",
        "200"
       ]
      },
      {
       "output_type": "stream",
       "stream": "stdout",
       "text": [
        "\n",
        "200\n",
        "109\n",
        "http://www.image-net.org/nodes/1/01503061/17/17b797bc373230b67ecd5c93acc92d256a6b16d2.thumb\n",
        "200"
       ]
      },
      {
       "output_type": "stream",
       "stream": "stdout",
       "text": [
        "\n",
        "200\n",
        "110\n",
        "http://www.image-net.org/nodes/1/01503061/2b/2b029977e5e6b2c91aa695ba912f9bb2844bd1e6.thumb\n",
        "200"
       ]
      },
      {
       "output_type": "stream",
       "stream": "stdout",
       "text": [
        "\n",
        "200\n",
        "111\n",
        "http://www.image-net.org/nodes/1/01503061/05/0588c1ee3a3ba62ab9aa59dd4cf82d09d90f8801.thumb\n",
        "200"
       ]
      },
      {
       "output_type": "stream",
       "stream": "stdout",
       "text": [
        "\n",
        "200\n",
        "112\n",
        "http://www.image-net.org/nodes/1/01503061/30/303e767c38cf699654e2d4cc8413b1e0a57dc4a8.thumb\n",
        "200"
       ]
      },
      {
       "output_type": "stream",
       "stream": "stdout",
       "text": [
        "\n",
        "200\n",
        "113\n",
        "http://www.image-net.org/nodes/1/01503061/12/122edc58b7851ff1a06abff97442184adbfa1620.thumb\n",
        "200"
       ]
      },
      {
       "output_type": "stream",
       "stream": "stdout",
       "text": [
        "\n",
        "200\n"
       ]
      }
     ],
     "prompt_number": 32
    },
    {
     "cell_type": "code",
     "collapsed": false,
     "input": [
      "search_img = \"http://news.nationalgeographic.com/news/2007/09/images/070928-frog-picture_big.jpg\"\n",
      "display(Image(url=search_img))"
     ],
     "language": "python",
     "metadata": {},
     "outputs": [
      {
       "html": [
        "<img src=\"http://news.nationalgeographic.com/news/2007/09/images/070928-frog-picture_big.jpg\"/>"
       ],
       "metadata": {},
       "output_type": "display_data",
       "text": [
        "<IPython.core.display.Image at 0x7f6c98606410>"
       ]
      }
     ],
     "prompt_number": 27
    },
    {
     "cell_type": "code",
     "collapsed": false,
     "input": [
      "#Now find nearest neighbours for an image\n",
      "#Now predict\n",
      "#d3 = {\"url\":\"http://localhost:8500/1314.jpg\", \"modelId\": \"KevinNet_CIFAR10_48\"}\n",
      "#d3 = {\"url\":\"http://imagecdn8.cartrade.com/img/800x600/car-data/big/maruti-suzuki-swift-default-image.png\", \"modelId\": \"KevinNet_CIFAR10_48\"}\n",
      "#d3 = {\"url\":\"http://www.image-net.org/nodes/5/02960352/1f/1f131ee4f7d4c438f1d2e286eda6bc2ef6dbc469.thumb\", \"modelId\": \"KevinNet_CIFAR10_48\"}\n",
      "d3 = {\"url\":\"http://news.nationalgeographic.com/news/2007/09/images/070928-frog-picture_big.jpg\", \"modelId\": \"KevinNet_CIFAR10_48\"}\n",
      "\n",
      "response = requests.post('http://localhost:8000/v1/caffe_model/predict', \n",
      "                         data= json.dumps(d3), \n",
      "                         headers={'Content-Type': 'application/json'})\n",
      "print(response.status_code)\n",
      "vec = json.loads(response.content)\n",
      "print(str(vec))\n",
      "d4 = {\"modelId\":\"model-1\", \"operation\": \"SearchByVector\", \"vector\": vec, \"tags\":[\"\"]}\n",
      "response = requests.post('http://localhost:8000/v1/knn_model/predict', \n",
      "                         data= json.dumps(d4), \n",
      "                         headers={'Content-Type': 'application/json'})\n",
      "print(response.status_code)\n",
      "print(response.content)\n",
      "predictions = json.loads(response.content)\n",
      "ids_dists = predictions[u'result']\n",
      "ids_dists.reverse()"
     ],
     "language": "python",
     "metadata": {},
     "outputs": [
      {
       "output_type": "stream",
       "stream": "stdout",
       "text": [
        "200\n",
        "[2.948449719042401e-06, 0.9997074604034424, 0.0041442085057497025, 0.003163360059261322, 0.9995502233505249, 0.9961134791374207, 0.9915194511413574, 0.9979007244110107, 0.6359469890594482, 0.9999895691871643, 0.9999938011169434, 0.9998611807823181, 0.00010567183198872954, 0.9971128106117249, 0.9870666265487671, 0.9581118822097778, 0.9999675750732422, 0.0001435092417523265, 5.943442738498561e-05, 0.997321605682373, 0.00015146219811867923, 0.0001383969356538728, 0.9997089505195618, 0.9989033937454224, 0.0039650918915867805, 0.00876687653362751, 0.44023996591567993, 4.7245681344065815e-05, 0.00038455246249213815, 0.9948388338088989, 7.710501449764706e-06, 0.005753688048571348, 0.8469799160957336, 0.00023447808052878827, 0.9999024271965027, 2.68056846834952e-05, 0.9994065761566162, 0.973845362663269, 0.1439395397901535, 0.00022618946968577802, 0.9995483160018921, 0.9975230097770691, 0.0003216649347450584, 0.9999839663505554, 0.6428624391555786, 0.981738269329071, 4.271544094081037e-05, 0.9990951418876648]\n",
        "200\n",
        "{\"result\": [[\"39\", 1.8959797620773315], [\"48\", 1.6516090631484985], [\"44\", 1.234792947769165], [\"49\", 1.1166352033615112], [\"43\", 0.811566948890686]]}\n"
       ]
      }
     ],
     "prompt_number": 33
    },
    {
     "cell_type": "code",
     "collapsed": false,
     "input": [
      "print(ids_dists)\n",
      "images = []\n",
      "for id_dist in ids_dists:\n",
      "    images.append(Image(url=id_to_imgurl_map[int(id_dist[0])]))\n",
      "print(\"Here are the nearest neighbours for our sample image\")                  \n",
      "display(images[0], images[1], images[2], images[3], images[4])"
     ],
     "language": "python",
     "metadata": {},
     "outputs": [
      {
       "output_type": "stream",
       "stream": "stdout",
       "text": [
        "[[u'43', 0.811566948890686], [u'49', 1.1166352033615112], [u'44', 1.234792947769165], [u'48', 1.6516090631484985], [u'39', 1.8959797620773315]]\n",
        "Here are the nearest neighbours for our sample image\n"
       ]
      },
      {
       "html": [
        "<img src=\"http://www.image-net.org/nodes/9/01639765/2d/2d5c39e1c3d296d0c2cececb3ac8f279f3cdc86b.thumb\"/>"
       ],
       "metadata": {},
       "output_type": "display_data",
       "text": [
        "<IPython.core.display.Image at 0x7f6c98586e90>"
       ]
      },
      {
       "html": [
        "<img src=\"http://www.image-net.org/nodes/9/01639765/57/5702e7cb54786791b3f731e3dd21f04cc53090f4.thumb\"/>"
       ],
       "metadata": {},
       "output_type": "display_data",
       "text": [
        "<IPython.core.display.Image at 0x7f6c98586b10>"
       ]
      },
      {
       "html": [
        "<img src=\"http://www.image-net.org/nodes/9/01639765/0e/0edd41b2eb9a12513568f4c22faf806a2247f711.thumb\"/>"
       ],
       "metadata": {},
       "output_type": "display_data",
       "text": [
        "<IPython.core.display.Image at 0x7f6c98586210>"
       ]
      },
      {
       "html": [
        "<img src=\"http://www.image-net.org/nodes/9/01639765/44/44f11a8825dbf15a6a17b3f912b344e654ef7606.thumb\"/>"
       ],
       "metadata": {},
       "output_type": "display_data",
       "text": [
        "<IPython.core.display.Image at 0x7f6c98586c90>"
       ]
      },
      {
       "html": [
        "<img src=\"http://www.image-net.org/nodes/11/02084071/f8/f8221715995921a017581e7896de39cc36ccacaf.thumb\"/>"
       ],
       "metadata": {},
       "output_type": "display_data",
       "text": [
        "<IPython.core.display.Image at 0x7f6c98586290>"
       ]
      }
     ],
     "prompt_number": 34
    }
   ],
   "metadata": {}
  }
 ]
}
